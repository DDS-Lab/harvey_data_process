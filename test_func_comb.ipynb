{
 "cells": [
  {
   "cell_type": "code",
   "execution_count": null,
   "metadata": {},
   "outputs": [],
   "source": [
    "from PIL import Image\n",
    "import numpy as np\n",
    "import json"
   ]
  },
  {
   "cell_type": "code",
   "execution_count": 4,
   "metadata": {},
   "outputs": [
    {
     "name": "stdout",
     "output_type": "stream",
     "text": [
      "0 b\n",
      "1 c\n",
      "2 a\n"
     ]
    }
   ],
   "source": [
    "from random import shuffle\n",
    "files = ['a', 'b', 'c']\n",
    "shuffle(files)\n",
    "for idx, f in enumerate(files):\n",
    "    print(idx,f)"
   ]
  },
  {
   "cell_type": "code",
   "execution_count": 5,
   "metadata": {},
   "outputs": [],
   "source": [
    "import functools\n",
    "from itertools import chain, combinations\n",
    "\n"
   ]
  },
  {
   "cell_type": "code",
   "execution_count": 7,
   "metadata": {},
   "outputs": [
    {
     "data": {
      "text/plain": [
       "True"
      ]
     },
     "execution_count": 7,
     "metadata": {},
     "output_type": "execute_result"
    }
   ],
   "source": [
    "import numpy as np\n",
    "data = np.array([1,4,5,5,6,8,8,9])\n",
    "np.any(data[:] == 5)"
   ]
  },
  {
   "cell_type": "code",
   "execution_count": 2,
   "metadata": {},
   "outputs": [],
   "source": [
    "def double(x, y, z):\n",
    "    return x * 2, y *2, z *2\n",
    "\n",
    "def inc(x, y, z):\n",
    "    return x + 1, y+1, z+1\n",
    "\n",
    "def dec(x, y, z, w):\n",
    "    return x +w- 1, y-1, z-1\n",
    "\n",
    "\n",
    "# def compose(*functions):\n",
    "#     def compose2(f, g):\n",
    "#         return lambda x,y,z: f(g(x, y, z))\n",
    "#     return functools.reduce(compose2, functions, lambda x, y, z: x, y, z)\n",
    "# inc_double_and_dec = compose(dec, double, inc)\n",
    "# print(inc_double_and_dec(1,2,3))"
   ]
  },
  {
   "cell_type": "code",
   "execution_count": 3,
   "metadata": {},
   "outputs": [],
   "source": [
    "def all_subsets(ss):\n",
    "    return chain(*map(lambda x: combinations(ss, x), range(0, len(ss)+1)))\n",
    "\n"
   ]
  },
  {
   "cell_type": "code",
   "execution_count": null,
   "metadata": {},
   "outputs": [],
   "source": []
  },
  {
   "cell_type": "code",
   "execution_count": 28,
   "metadata": {},
   "outputs": [
    {
     "name": "stdout",
     "output_type": "stream",
     "text": [
      "('double',)\n",
      "('inc',)\n",
      "('dec',)\n",
      "('double', 'inc')\n",
      "('double', 'dec')\n",
      "('inc', 'dec')\n",
      "('double', 'inc', 'dec')\n",
      "7\n"
     ]
    }
   ],
   "source": [
    "func_list = ['double', 'inc', 'dec']\n",
    "i = 0\n",
    "for subset in all_subsets(func_list):\n",
    "    if len(subset) > 0:\n",
    "        print(subset)\n",
    "        i = i+1\n",
    "print(i)\n",
    "        \n"
   ]
  },
  {
   "cell_type": "code",
   "execution_count": 30,
   "metadata": {},
   "outputs": [
    {
     "name": "stdout",
     "output_type": "stream",
     "text": [
      "[[10, 4, 6], [6, 3, 4], [7, 1, 2], [11, 5, 7], [12, 3, 5], [8, 2, 3], [13, 4, 6]]\n"
     ]
    }
   ],
   "source": [
    "# call functions by name \n",
    "result_list = list() # list of [x,y,z]\n",
    "for subset in all_subsets(func_list):\n",
    "    len_sub = len(subset)\n",
    "    if len_sub == 0:\n",
    "        continue\n",
    "    x = 5\n",
    "    y = 2\n",
    "    z = 3\n",
    "    for idx in range(len_sub):\n",
    "        if subset[idx] == 'dec':\n",
    "            x,y,z = locals()[subset[idx]](x,y,z,3)\n",
    "        else:\n",
    "            x,y, z = locals()[subset[idx]](x,y,z)\n",
    "    result_list.append([x,y,z])\n",
    "    \n",
    "print(result_list)"
   ]
  },
  {
   "cell_type": "code",
   "execution_count": null,
   "metadata": {},
   "outputs": [],
   "source": []
  }
 ],
 "metadata": {
  "kernelspec": {
   "display_name": "Environment (conda_anaconda3)",
   "language": "python",
   "name": "conda_anaconda3"
  },
  "language_info": {
   "codemirror_mode": {
    "name": "ipython",
    "version": 3
   },
   "file_extension": ".py",
   "mimetype": "text/x-python",
   "name": "python",
   "nbconvert_exporter": "python",
   "pygments_lexer": "ipython3",
   "version": "3.6.4"
  }
 },
 "nbformat": 4,
 "nbformat_minor": 2
}
